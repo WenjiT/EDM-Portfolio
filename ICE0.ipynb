{
 "cells": [
  {
   "cell_type": "code",
   "execution_count": 1,
   "id": "5e0c4eab",
   "metadata": {},
   "outputs": [
    {
     "name": "stdout",
     "output_type": "stream",
     "text": [
      "The Zen of Python, by Tim Peters\n",
      "\n",
      "Beautiful is better than ugly.\n",
      "Explicit is better than implicit.\n",
      "Simple is better than complex.\n",
      "Complex is better than complicated.\n",
      "Flat is better than nested.\n",
      "Sparse is better than dense.\n",
      "Readability counts.\n",
      "Special cases aren't special enough to break the rules.\n",
      "Although practicality beats purity.\n",
      "Errors should never pass silently.\n",
      "Unless explicitly silenced.\n",
      "In the face of ambiguity, refuse the temptation to guess.\n",
      "There should be one-- and preferably only one --obvious way to do it.\n",
      "Although that way may not be obvious at first unless you're Dutch.\n",
      "Now is better than never.\n",
      "Although never is often better than *right* now.\n",
      "If the implementation is hard to explain, it's a bad idea.\n",
      "If the implementation is easy to explain, it may be a good idea.\n",
      "Namespaces are one honking great idea -- let's do more of those!\n"
     ]
    }
   ],
   "source": [
    "import this"
   ]
  },
  {
   "cell_type": "code",
   "execution_count": 2,
   "id": "cf3076ab",
   "metadata": {},
   "outputs": [
    {
     "name": "stdout",
     "output_type": "stream",
     "text": [
      "Hello World!\n"
     ]
    }
   ],
   "source": [
    "print(\"Hello World!\")"
   ]
  },
  {
   "cell_type": "code",
   "execution_count": 3,
   "id": "affe48d9",
   "metadata": {},
   "outputs": [
    {
     "ename": "SyntaxError",
     "evalue": "invalid syntax (<ipython-input-3-898d2b40ca9e>, line 1)",
     "output_type": "error",
     "traceback": [
      "\u001b[1;36m  File \u001b[1;32m\"<ipython-input-3-898d2b40ca9e>\"\u001b[1;36m, line \u001b[1;32m1\u001b[0m\n\u001b[1;33m    print(Hello World!)\u001b[0m\n\u001b[1;37m                ^\u001b[0m\n\u001b[1;31mSyntaxError\u001b[0m\u001b[1;31m:\u001b[0m invalid syntax\n"
     ]
    }
   ],
   "source": [
    "print(Hello World!)"
   ]
  },
  {
   "cell_type": "code",
   "execution_count": 4,
   "id": "27b81bbf",
   "metadata": {},
   "outputs": [],
   "source": [
    "x = 3\n",
    "y = 7\n",
    "xy = 'Whatsup'"
   ]
  },
  {
   "cell_type": "code",
   "execution_count": 5,
   "id": "c4cab2f1",
   "metadata": {},
   "outputs": [
    {
     "name": "stdout",
     "output_type": "stream",
     "text": [
      "3 7 10 Whatsup\n"
     ]
    }
   ],
   "source": [
    "print(x, y, x+y, xy)"
   ]
  },
  {
   "cell_type": "code",
   "execution_count": 6,
   "id": "4fc623f3",
   "metadata": {},
   "outputs": [
    {
     "name": "stdout",
     "output_type": "stream",
     "text": [
      "3\n",
      "5\n",
      "7\n"
     ]
    }
   ],
   "source": [
    "print(x)\n",
    "x = 5\n",
    "print(x)\n",
    "x = y\n",
    "print(x)"
   ]
  },
  {
   "cell_type": "code",
   "execution_count": 7,
   "id": "ef392058",
   "metadata": {},
   "outputs": [
    {
     "name": "stdout",
     "output_type": "stream",
     "text": [
      "1 + 2 =  3\n",
      "2 - 1 =  1\n",
      "1 * 2 =  2\n",
      "9 / 3 =  3.0\n"
     ]
    }
   ],
   "source": [
    "a = 1 + 2\n",
    "print(\"1 + 2 = \", a)\n",
    "b = 2 - 1\n",
    "print(\"2 - 1 = \", b)\n",
    "c = 1 * 2\n",
    "print(\"1 * 2 = \", c)\n",
    "d = 9 / 3\n",
    "print(\"9 / 3 = \", d)"
   ]
  },
  {
   "cell_type": "code",
   "execution_count": 8,
   "id": "6aad23b1",
   "metadata": {},
   "outputs": [
    {
     "name": "stdout",
     "output_type": "stream",
     "text": [
      "m =  1\n",
      "f =  3\n"
     ]
    }
   ],
   "source": [
    "# division-related operators\n",
    "m = 10 % 3\n",
    "print(\"m = \", m)\n",
    "f = 10 // 3\n",
    "print(\"f = \", f)"
   ]
  },
  {
   "cell_type": "code",
   "execution_count": 9,
   "id": "54dad05d",
   "metadata": {},
   "outputs": [
    {
     "name": "stdout",
     "output_type": "stream",
     "text": [
      "a =  3 ; m =  1 ; f =  3\n",
      "a is equal to f?  True\n",
      "a is not equal to f? False\n",
      "m is smaller than f?  True\n"
     ]
    }
   ],
   "source": [
    "# boolean operators will return true or false\n",
    "print(\"a = \", a, \"; m = \", m, \"; f = \", f)\n",
    "print(\"a is equal to f? \", a == f)\n",
    "print(\"a is not equal to f?\", a !=f)\n",
    "print(\"m is smaller than f? \", m < f)"
   ]
  },
  {
   "cell_type": "code",
   "execution_count": 10,
   "id": "bb21b016",
   "metadata": {},
   "outputs": [
    {
     "data": {
      "text/plain": [
       "'C:\\\\Users\\\\tangw'"
      ]
     },
     "execution_count": 10,
     "metadata": {},
     "output_type": "execute_result"
    }
   ],
   "source": [
    "import os\n",
    "os.getcwd()"
   ]
  },
  {
   "cell_type": "code",
   "execution_count": 11,
   "id": "f725f483",
   "metadata": {},
   "outputs": [],
   "source": [
    "#Comment Format"
   ]
  }
 ],
 "metadata": {
  "kernelspec": {
   "display_name": "Python 3",
   "language": "python",
   "name": "python3"
  },
  "language_info": {
   "codemirror_mode": {
    "name": "ipython",
    "version": 3
   },
   "file_extension": ".py",
   "mimetype": "text/x-python",
   "name": "python",
   "nbconvert_exporter": "python",
   "pygments_lexer": "ipython3",
   "version": "3.8.8"
  }
 },
 "nbformat": 4,
 "nbformat_minor": 5
}
